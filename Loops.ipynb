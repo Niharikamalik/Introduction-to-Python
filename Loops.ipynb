{
 "cells": [
  {
   "cell_type": "markdown",
   "id": "548d5049",
   "metadata": {},
   "source": [
    "### While loop : The while loop loops through a block of code as long as a specified condition is true."
   ]
  },
  {
   "cell_type": "markdown",
   "id": "7f11ad34",
   "metadata": {},
   "source": [
    "#### write a programe to print n nature number "
   ]
  },
  {
   "cell_type": "code",
   "execution_count": 1,
   "id": "5f4f6c6d",
   "metadata": {},
   "outputs": [
    {
     "name": "stdout",
     "output_type": "stream",
     "text": [
      "4\n",
      "1\n",
      "2\n",
      "3\n",
      "4\n"
     ]
    }
   ],
   "source": [
    "n = int(input())\n",
    "count = 1 \n",
    "while count <= n :\n",
    "    print(count)\n",
    "    count = count+1"
   ]
  },
  {
   "cell_type": "markdown",
   "id": "ff088de3",
   "metadata": {},
   "source": [
    "#### Prime number"
   ]
  },
  {
   "cell_type": "code",
   "execution_count": 4,
   "id": "754e55e1",
   "metadata": {},
   "outputs": [
    {
     "name": "stdout",
     "output_type": "stream",
     "text": [
      "Enter the value of n  : 4\n",
      "not prime\n"
     ]
    }
   ],
   "source": [
    "n = int(input(\"Enter the value of n  : \"))\n",
    "d = 2\n",
    "flag = False\n",
    "while d<n :\n",
    "    if n%d == 0:\n",
    "        flag = True\n",
    "    d=d+1    \n",
    "if not(flag):\n",
    "    print(\"prime\")\n",
    "else :\n",
    "    print(\"not prime\")"
   ]
  },
  {
   "cell_type": "markdown",
   "id": "c6152f28",
   "metadata": {},
   "source": [
    "#### Sum n number"
   ]
  },
  {
   "cell_type": "code",
   "execution_count": 6,
   "id": "53bee24e",
   "metadata": {},
   "outputs": [
    {
     "name": "stdout",
     "output_type": "stream",
     "text": [
      "Enter the value of n :3\n",
      "6\n"
     ]
    }
   ],
   "source": [
    "n = int(input(\"Enter the value of n :\"))\n",
    "count = 1\n",
    "sum=0\n",
    "while count <= n:\n",
    "    sum += count\n",
    "    count = count+1\n",
    "print(sum)    "
   ]
  },
  {
   "cell_type": "markdown",
   "id": "79337801",
   "metadata": {},
   "source": [
    "#### Sum of n even number "
   ]
  },
  {
   "cell_type": "code",
   "execution_count": 8,
   "id": "80b8e655",
   "metadata": {},
   "outputs": [
    {
     "name": "stdout",
     "output_type": "stream",
     "text": [
      "Enter the value of n :4\n",
      "6\n"
     ]
    }
   ],
   "source": [
    "n = int(input(\"Enter the value of n :\"))\n",
    "count = 2\n",
    "sum=0\n",
    "while count<=n:\n",
    "    sum += count\n",
    "    count+=2\n",
    "print(sum)    "
   ]
  },
  {
   "cell_type": "markdown",
   "id": "9f7b42f2",
   "metadata": {},
   "source": [
    "#### Fahrenheit to Celsius\n",
    "##### Given three values - Start Fahrenheit Value (S), End Fahrenheit value (E) and Step Size (W), you need to convert all Fahrenheit values from Start to End at the gap of W, into their corresponding Celsius values and print the table."
   ]
  },
  {
   "cell_type": "code",
   "execution_count": 10,
   "id": "46181cfd",
   "metadata": {},
   "outputs": [
    {
     "name": "stdout",
     "output_type": "stream",
     "text": [
      "Enter the start fahrenheit value : 20\n",
      "Enter the step size : 13\n",
      "Enter the end fahrenheit value : 119\n",
      "-7\n",
      "0\n",
      "7\n",
      "15\n",
      "22\n",
      "29\n",
      "36\n",
      "43\n"
     ]
    }
   ],
   "source": [
    "f = int(input(\"Enter the start fahrenheit value : \"))\n",
    "w = int(input(\"Enter the step size : \"))\n",
    "e = int(input(\"Enter the end fahrenheit value : \"))\n",
    "while f<=e:\n",
    "    c=(f-32)*5//9\n",
    "    f+=w\n",
    "    print(c)"
   ]
  },
  {
   "cell_type": "markdown",
   "id": "20afc6a8",
   "metadata": {},
   "source": [
    "#### Example for Nested loops :\n",
    " ##### Print prime no. till n ."
   ]
  },
  {
   "cell_type": "code",
   "execution_count": 3,
   "id": "ac7abafc",
   "metadata": {},
   "outputs": [
    {
     "name": "stdout",
     "output_type": "stream",
     "text": [
      "Enter the value of n  : 4\n",
      "2\n",
      "3\n"
     ]
    }
   ],
   "source": [
    "n = int(input(\"Enter the value of n  : \"))\n",
    "k = 2\n",
    "while k<n :\n",
    "    d=2\n",
    "    flag = False\n",
    "    while d<k:\n",
    "        if(k%d==0):\n",
    "            flag = True \n",
    "        d = d+1    \n",
    "    if not(flag):\n",
    "        print(k)\n",
    "    k =k+1    "
   ]
  },
  {
   "cell_type": "markdown",
   "id": "6056726e",
   "metadata": {},
   "source": [
    "### For Loop"
   ]
  },
  {
   "cell_type": "code",
   "execution_count": 2,
   "id": "941a679f",
   "metadata": {},
   "outputs": [
    {
     "name": "stdout",
     "output_type": "stream",
     "text": [
      "Enter the string : addsfdwe\n",
      "a\n",
      "d\n",
      "d\n",
      "s\n",
      "f\n",
      "d\n",
      "w\n",
      "e\n"
     ]
    }
   ],
   "source": [
    "s = input(\"Enter the string : \")\n",
    "for c in s:\n",
    "    print(c)"
   ]
  },
  {
   "cell_type": "markdown",
   "id": "aa7c8436",
   "metadata": {},
   "source": [
    "#### Print form 0 to n "
   ]
  },
  {
   "cell_type": "code",
   "execution_count": 10,
   "id": "c60e84cf",
   "metadata": {},
   "outputs": [
    {
     "name": "stdout",
     "output_type": "stream",
     "text": [
      "Enter the value of n : 9\n",
      "1\n",
      "2\n",
      "3\n",
      "4\n",
      "5\n",
      "6\n",
      "7\n",
      "8\n",
      "9\n"
     ]
    }
   ],
   "source": [
    "n = int(input(\"Enter the value of n : \"))\n",
    "for i in range(1,n+1,1):#range(start,stop,strid)\n",
    "    print(i)"
   ]
  },
  {
   "cell_type": "code",
   "execution_count": 11,
   "id": "9e95dd0a",
   "metadata": {},
   "outputs": [
    {
     "name": "stdout",
     "output_type": "stream",
     "text": [
      "Enter the value of n : 9\n",
      "0\n",
      "1\n",
      "2\n",
      "3\n",
      "4\n",
      "5\n",
      "6\n",
      "7\n",
      "8\n",
      "9\n"
     ]
    }
   ],
   "source": [
    "#print from 0 to n \n",
    "n = int(input(\"Enter the value of n : \"))\n",
    "for i in range(n+1):#range(start,stop,strid)\n",
    "    print(i)"
   ]
  },
  {
   "cell_type": "markdown",
   "id": "1d74c4b4",
   "metadata": {},
   "source": [
    "#### Print from n to 1"
   ]
  },
  {
   "cell_type": "code",
   "execution_count": 14,
   "id": "39f68c3f",
   "metadata": {},
   "outputs": [
    {
     "name": "stdout",
     "output_type": "stream",
     "text": [
      "Enter the value of n : 9\n",
      "9\n",
      "8\n",
      "7\n",
      "6\n",
      "5\n",
      "4\n",
      "3\n",
      "2\n",
      "1\n"
     ]
    }
   ],
   "source": [
    "n = int(input(\"Enter the value of n : \"))\n",
    "for i in range(n,0,-1):#range(start,stop,strid)\n",
    "    print(i)"
   ]
  },
  {
   "cell_type": "markdown",
   "id": "8ab76e32",
   "metadata": {},
   "source": [
    "#### Print multiples of 3"
   ]
  },
  {
   "cell_type": "code",
   "execution_count": 22,
   "id": "3d3c311f",
   "metadata": {},
   "outputs": [
    {
     "name": "stdout",
     "output_type": "stream",
     "text": [
      "Enter the value of n : 30\n",
      "3\n",
      "6\n",
      "9\n",
      "12\n",
      "15\n",
      "18\n",
      "21\n",
      "24\n",
      "27\n",
      "30\n"
     ]
    }
   ],
   "source": [
    "n = int(input(\"Enter the value of n : \"))\n",
    "for i in range(3,n+1,3):#range(start,stop,strid)\n",
    "    print(i)"
   ]
  },
  {
   "cell_type": "code",
   "execution_count": 31,
   "id": "a0943094",
   "metadata": {},
   "outputs": [
    {
     "name": "stdout",
     "output_type": "stream",
     "text": [
      "2\n",
      "30\n",
      "3\n",
      "6\n",
      "9\n",
      "12\n",
      "15\n",
      "18\n",
      "21\n",
      "24\n",
      "27\n",
      "30\n"
     ]
    }
   ],
   "source": [
    "a= int(input())\n",
    "b= int(input())\n",
    "if (a%3 == 0):\n",
    "    s = a\n",
    "elif (a%3 == 1):\n",
    "    s = a+2\n",
    "else :\n",
    "    s = a+1\n",
    "\n",
    "for i in range(s,b+1,3):\n",
    "    print(i)"
   ]
  },
  {
   "cell_type": "markdown",
   "id": "c7004634",
   "metadata": {},
   "source": [
    "#### Check if no. is Prime"
   ]
  },
  {
   "cell_type": "code",
   "execution_count": 34,
   "id": "6aff768d",
   "metadata": {},
   "outputs": [
    {
     "name": "stdout",
     "output_type": "stream",
     "text": [
      "4\n",
      "not prime\n"
     ]
    }
   ],
   "source": [
    "n = int(input())\n",
    "flag = False\n",
    "for d in range(2,n,1):\n",
    "    if(n%d == 0):\n",
    "        flag = True \n",
    "if not(flag):\n",
    "    print(\"prime\")\n",
    "else :\n",
    "    print(\"not prime\")"
   ]
  },
  {
   "cell_type": "markdown",
   "id": "b63aa4fb",
   "metadata": {},
   "source": [
    "### Break : optimize the code"
   ]
  },
  {
   "cell_type": "code",
   "execution_count": 2,
   "id": "824174df",
   "metadata": {},
   "outputs": [
    {
     "name": "stdout",
     "output_type": "stream",
     "text": [
      "4\n",
      "not prime\n"
     ]
    }
   ],
   "source": [
    "n = int(input())\n",
    "flag = False\n",
    "for d in range(2,n,1):\n",
    "    if(n%d == 0):\n",
    "        flag = True \n",
    "        break\n",
    "if not(flag):\n",
    "    print(\"prime\")\n",
    "else :\n",
    "    print(\"not prime\")"
   ]
  },
  {
   "cell_type": "markdown",
   "id": "e4c281fe",
   "metadata": {},
   "source": [
    "### else : in python else will work with loops also \n",
    "#### but else will not execute due to break "
   ]
  },
  {
   "cell_type": "code",
   "execution_count": 5,
   "id": "592869a9",
   "metadata": {},
   "outputs": [
    {
     "name": "stdout",
     "output_type": "stream",
     "text": [
      "8\n"
     ]
    }
   ],
   "source": [
    "n = int(input())\n",
    "flag = False\n",
    "for d in range(2,n,1):\n",
    "    if(n%d == 0):\n",
    "        flag = True \n",
    "        break\n",
    "\n",
    "else :\n",
    "    print(\"prime\")"
   ]
  },
  {
   "cell_type": "markdown",
   "id": "3808b48f",
   "metadata": {},
   "source": [
    "### continue : skip "
   ]
  },
  {
   "cell_type": "code",
   "execution_count": 6,
   "id": "060d07ba",
   "metadata": {},
   "outputs": [
    {
     "name": "stdout",
     "output_type": "stream",
     "text": [
      "Enter the string : asdfghjkl\n",
      "a\n",
      "s\n",
      "d\n",
      "f\n",
      "h\n",
      "j\n",
      "k\n",
      "l\n"
     ]
    }
   ],
   "source": [
    "s = input(\"Enter the string : \")\n",
    "for c in s:\n",
    "    if(c == \"g\"):\n",
    "        continue\n",
    "    print(c)"
   ]
  },
  {
   "cell_type": "markdown",
   "id": "918c4b05",
   "metadata": {},
   "source": [
    "### pass : dummy statement\n"
   ]
  },
  {
   "cell_type": "code",
   "execution_count": 7,
   "id": "6ed5ca77",
   "metadata": {},
   "outputs": [
    {
     "name": "stdout",
     "output_type": "stream",
     "text": [
      "end\n"
     ]
    }
   ],
   "source": [
    "i = 3 \n",
    "if i<7:\n",
    "    pass\n",
    "print(\"end\")"
   ]
  },
  {
   "cell_type": "code",
   "execution_count": 9,
   "id": "f4029056",
   "metadata": {},
   "outputs": [
    {
     "name": "stdout",
     "output_type": "stream",
     "text": [
      "end\n"
     ]
    }
   ],
   "source": [
    "i = 3 \n",
    "while i<7:\n",
    "    pass\n",
    "    i=i+1\n",
    "\n",
    "print(\"end\")"
   ]
  },
  {
   "cell_type": "code",
   "execution_count": 11,
   "id": "bcfc48b1",
   "metadata": {},
   "outputs": [
    {
     "name": "stdout",
     "output_type": "stream",
     "text": [
      "end\n"
     ]
    }
   ],
   "source": [
    "for i in range(1,3):\n",
    "    pass\n",
    "    i=i+1\n",
    "\n",
    "print(\"end\")"
   ]
  },
  {
   "cell_type": "markdown",
   "id": "259d28ec",
   "metadata": {},
   "source": [
    "#### Sum or product\n",
    "##### Write a program that asks the user for a number N and a choice C. And then give them the possibility to choose between computing the sum and computing the product of all integers in the range 1 to N (both inclusive).\n",
    "##### If C is equal to -\n",
    " ##### 1, then print the sum\n",
    " ##### 2, then print the product\n",
    " ##### Any other number, then print '-1' (without the quotes)\n"
   ]
  },
  {
   "cell_type": "code",
   "execution_count": 25,
   "id": "37109e51",
   "metadata": {},
   "outputs": [
    {
     "name": "stdout",
     "output_type": "stream",
     "text": [
      "Enter the value of n : 4\n",
      "Enter 1 for sum and 2 for product : 2\n",
      "24\n"
     ]
    }
   ],
   "source": [
    "n =  int(input(\"Enter the value of n : \"))\n",
    "q = int(input(\"Enter 1 for sum and 2 for product : \"))\n",
    "ans = 1\n",
    "ans1 = 0\n",
    "if q==1: \n",
    "    for i in range(1,n+1):\n",
    "        ans1 = ans1 + i \n",
    "    print(ans1)\n",
    "elif q==2:\n",
    "    for i in range(1,n+1):\n",
    "        ans = ans*i\n",
    "    print(ans)  \n",
    "else :\n",
    "    print(-1)"
   ]
  }
 ],
 "metadata": {
  "kernelspec": {
   "display_name": "Python 3 (ipykernel)",
   "language": "python",
   "name": "python3"
  },
  "language_info": {
   "codemirror_mode": {
    "name": "ipython",
    "version": 3
   },
   "file_extension": ".py",
   "mimetype": "text/x-python",
   "name": "python",
   "nbconvert_exporter": "python",
   "pygments_lexer": "ipython3",
   "version": "3.9.13"
  }
 },
 "nbformat": 4,
 "nbformat_minor": 5
}
