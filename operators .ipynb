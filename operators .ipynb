{
 "cells": [
  {
   "cell_type": "markdown",
   "id": "1505ccc1",
   "metadata": {},
   "source": [
    "### Boolean operator : True ,False"
   ]
  },
  {
   "cell_type": "markdown",
   "id": "8d863be0",
   "metadata": {},
   "source": [
    "### Relational operator : (<,>,<=,>=.==,!=)\n"
   ]
  },
  {
   "cell_type": "code",
   "execution_count": 3,
   "id": "c49cc657",
   "metadata": {},
   "outputs": [
    {
     "name": "stdout",
     "output_type": "stream",
     "text": [
      "True\n",
      "False\n",
      "True\n",
      "False\n",
      "False\n",
      "True\n"
     ]
    }
   ],
   "source": [
    "a=10\n",
    "b=20\n",
    "print(a<b)\n",
    "print(a>b)\n",
    "print(a<=b)\n",
    "print(a>=b)\n",
    "print(a==b)\n",
    "print(a!=b)"
   ]
  },
  {
   "cell_type": "markdown",
   "id": "4697620b",
   "metadata": {},
   "source": [
    "### Logical operator :\n",
    " #### 1. and  = both condition should be true \n",
    " ##### T , T -> T\n",
    " #### 2. or =at least  one codition should be true \n",
    " ##### T , F -> T , \n",
    " ##### T , T ->T \n",
    " #### 3. not = gives  true into false ,false into true\n",
    " ##### T -> F\n",
    " #####  F -> T"
   ]
  },
  {
   "cell_type": "code",
   "execution_count": 5,
   "id": "772f3fa7",
   "metadata": {},
   "outputs": [
    {
     "name": "stdout",
     "output_type": "stream",
     "text": [
      "False\n",
      "False\n",
      "True\n"
     ]
    }
   ],
   "source": [
    "c1 = a < 10 \n",
    "c2 = b < 10\n",
    "print(c1 and c2)\n",
    "print(c1 or c2)\n",
    "print(not(c1))"
   ]
  }
 ],
 "metadata": {
  "kernelspec": {
   "display_name": "Python 3 (ipykernel)",
   "language": "python",
   "name": "python3"
  },
  "language_info": {
   "codemirror_mode": {
    "name": "ipython",
    "version": 3
   },
   "file_extension": ".py",
   "mimetype": "text/x-python",
   "name": "python",
   "nbconvert_exporter": "python",
   "pygments_lexer": "ipython3",
   "version": "3.9.13"
  }
 },
 "nbformat": 4,
 "nbformat_minor": 5
}
