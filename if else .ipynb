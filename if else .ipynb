{
 "cells": [
  {
   "cell_type": "markdown",
   "id": "df438150",
   "metadata": {},
   "source": [
    "### IF ELSE"
   ]
  },
  {
   "cell_type": "code",
   "execution_count": 1,
   "id": "77f5b116",
   "metadata": {},
   "outputs": [
    {
     "name": "stdout",
     "output_type": "stream",
     "text": [
      "inside if condition \n"
     ]
    }
   ],
   "source": [
    "# general syntax of if else condition \n",
    "a = True\n",
    "if a :\n",
    "    print(\"inside if condition \")\n",
    "else:\n",
    "    print(\"insdie else\")"
   ]
  },
  {
   "cell_type": "markdown",
   "id": "b2732b77",
   "metadata": {},
   "source": [
    "###  check number is even or odd"
   ]
  },
  {
   "cell_type": "code",
   "execution_count": 2,
   "id": "8ac2ba6c",
   "metadata": {},
   "outputs": [
    {
     "name": "stdout",
     "output_type": "stream",
     "text": [
      "input n 34\n",
      "n is even\n"
     ]
    }
   ],
   "source": [
    "n = int(input(\"input n \"))\n",
    "if (n%2)==0 :\n",
    "    print(\"n is even\")\n",
    "else :\n",
    "    print(\"n is odd \")"
   ]
  },
  {
   "cell_type": "markdown",
   "id": "b219b345",
   "metadata": {},
   "source": [
    "### using relational and logical operator in if else \n"
   ]
  },
  {
   "cell_type": "code",
   "execution_count": 3,
   "id": "f212bbf3",
   "metadata": {},
   "outputs": [
    {
     "name": "stdout",
     "output_type": "stream",
     "text": [
      "Enter the value of a : 20\n",
      "Enter the value of b : 30\n",
      "Both greater than 10 \n"
     ]
    }
   ],
   "source": [
    "a = int(input(\"Enter the value of a : \"))\n",
    "b = int(input(\"Enter the value of b : \"))\n",
    "if (a>10 and b>10):\n",
    "    print(\"Both greater than 10 \")\n",
    "else :\n",
    "    print(\"Both are not greater than 10 \")"
   ]
  },
  {
   "cell_type": "markdown",
   "id": "91675069",
   "metadata": {},
   "source": [
    "### Find largest number form a,b,c ."
   ]
  },
  {
   "cell_type": "code",
   "execution_count": 8,
   "id": "144a10bb",
   "metadata": {},
   "outputs": [
    {
     "name": "stdout",
     "output_type": "stream",
     "text": [
      "Enter the value of a : 23\n",
      "Enter the value of b : 12\n",
      "Enter the value of c : 23\n",
      "c is greater than a and b 23\n"
     ]
    }
   ],
   "source": [
    "a = int(input(\"Enter the value of a : \"))\n",
    "b = int(input(\"Enter the value of b : \"))\n",
    "c = int(input(\"Enter the value of c : \"))\n",
    "if (a>b and a>c):\n",
    "    print(\"a is greater than b and c\" , a)\n",
    "elif (b>a and b>c ):\n",
    "    print(\"b is greater than a and c\",b)\n",
    "else :\n",
    "    print(\"c is greater than a and b\",c)"
   ]
  },
  {
   "cell_type": "markdown",
   "id": "36a7e2e9",
   "metadata": {},
   "source": [
    " ### n>10 print red , 10>=n>=5 print green , 5> n >0 print yellow , n>0 print don't do anything \n",
    " \n",
    " "
   ]
  },
  {
   "cell_type": "code",
   "execution_count": 13,
   "id": "9ff9648a",
   "metadata": {},
   "outputs": [
    {
     "name": "stdout",
     "output_type": "stream",
     "text": [
      "Enter the value of n : 45\n",
      "red\n"
     ]
    }
   ],
   "source": [
    "n = int(input(\"Enter the value of n : \"))\n",
    "if n>10:\n",
    "    print(\"red\")\n",
    "elif n>=5:\n",
    "    print(\"green\")\n",
    "elif n>0 :\n",
    "    print(\"yellow\")\n",
    "elif n>0 :\n",
    "    print(\"nothing\")"
   ]
  },
  {
   "cell_type": "markdown",
   "id": "13d37152",
   "metadata": {},
   "source": [
    "### check if n is even than check where the m is even or odd"
   ]
  },
  {
   "cell_type": "code",
   "execution_count": 16,
   "id": "037ca506",
   "metadata": {},
   "outputs": [
    {
     "name": "stdout",
     "output_type": "stream",
     "text": [
      "enter the value of n 3\n",
      "n is odd\n"
     ]
    }
   ],
   "source": [
    "n = int(input(\"enter the value of n \"))\n",
    "if n%2 == 0 :\n",
    "    print(\"n is even\")\n",
    "    m = int(input(\"enter the value of m \"))\n",
    "    if m%2 == 0:\n",
    "        print(\"m is even\")\n",
    "    else :\n",
    "        print(\"m is odd\")\n",
    "else :\n",
    "    print(\"n is odd\")"
   ]
  }
 ],
 "metadata": {
  "kernelspec": {
   "display_name": "Python 3 (ipykernel)",
   "language": "python",
   "name": "python3"
  },
  "language_info": {
   "codemirror_mode": {
    "name": "ipython",
    "version": 3
   },
   "file_extension": ".py",
   "mimetype": "text/x-python",
   "name": "python",
   "nbconvert_exporter": "python",
   "pygments_lexer": "ipython3",
   "version": "3.9.13"
  }
 },
 "nbformat": 4,
 "nbformat_minor": 5
}
