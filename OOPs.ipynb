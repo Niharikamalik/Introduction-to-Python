{
 "cells": [
  {
   "cell_type": "markdown",
   "id": "26b876ff",
   "metadata": {},
   "source": [
    "## oops :\n",
    "#### focus of object rather then function.\n",
    "##### object is any real word entities , objects have properties and behaviour associated with it example: dogs ,cat  ,pen,table,chair\n",
    "\n",
    "##### properties --> attributes\n",
    "##### behaviour --> methods\n",
    "\n",
    "##### class: is structure which contain objects or class is a blueprint of object and objects are the instance of class\n"
   ]
  },
  {
   "cell_type": "code",
   "execution_count": 21,
   "id": "34b048bd",
   "metadata": {},
   "outputs": [],
   "source": [
    "# create a empty class\n",
    "class Student :\n",
    "    pass # pass is used when we do not want to perform any operation in the particular block\n",
    "# create objects \n",
    "a1 = Student()\n",
    "a2 = Student()"
   ]
  },
  {
   "cell_type": "markdown",
   "id": "eba3134a",
   "metadata": {},
   "source": [
    "### Types of Attributes :\n",
    "#### Instance Attribute : is a object attribute . attributes which have different value for different object  (bound to object atttribute)\n",
    "##### example name ,age ,height,weight etc\n",
    "\n",
    "#### Class Attribute : the attribute whose value is common of each object are class attruibute"
   ]
  },
  {
   "cell_type": "code",
   "execution_count": 22,
   "id": "d48ee1ee",
   "metadata": {},
   "outputs": [],
   "source": [
    "# add instance attribute \n",
    "a1.name = \"jiya\"\n",
    "a1.age  = 20\n",
    "a2.rollNo = 10004\n",
    "a3 = Student()\n",
    "a3.sem = 6\n"
   ]
  },
  {
   "cell_type": "markdown",
   "id": "76898503",
   "metadata": {},
   "source": [
    "#### In python each and every instance have an dictionary which holds a instance along with there value of that instance\n",
    "\n",
    "objName.(double underscore)dict(double underscore)"
   ]
  },
  {
   "cell_type": "code",
   "execution_count": 23,
   "id": "2af88904",
   "metadata": {},
   "outputs": [
    {
     "data": {
      "text/plain": [
       "{'name': 'jiya', 'age': 20}"
      ]
     },
     "execution_count": 23,
     "metadata": {},
     "output_type": "execute_result"
    }
   ],
   "source": [
    "a1.__dict__"
   ]
  },
  {
   "cell_type": "code",
   "execution_count": 24,
   "id": "8de3685c",
   "metadata": {},
   "outputs": [
    {
     "name": "stdout",
     "output_type": "stream",
     "text": [
      "{'name': 'jiya', 'age': 20}\n",
      "{'rollNo': 10004}\n",
      "{'sem': 6}\n"
     ]
    }
   ],
   "source": [
    "print(a1.__dict__)\n",
    "print(a2.__dict__)\n",
    "print(a3.__dict__)"
   ]
  },
  {
   "cell_type": "code",
   "execution_count": 25,
   "id": "1a4f2b4c",
   "metadata": {},
   "outputs": [
    {
     "name": "stdout",
     "output_type": "stream",
     "text": [
      "jiya\n",
      "10004\n"
     ]
    }
   ],
   "source": [
    "print(a1.name)\n",
    "print(a2.rollNo)"
   ]
  },
  {
   "cell_type": "code",
   "execution_count": 26,
   "id": "7349c319",
   "metadata": {},
   "outputs": [
    {
     "data": {
      "text/plain": [
       "True"
      ]
     },
     "execution_count": 26,
     "metadata": {},
     "output_type": "execute_result"
    }
   ],
   "source": [
    "hasattr(a1,'name')"
   ]
  },
  {
   "cell_type": "code",
   "execution_count": 27,
   "id": "ad975dcd",
   "metadata": {},
   "outputs": [
    {
     "data": {
      "text/plain": [
       "False"
      ]
     },
     "execution_count": 27,
     "metadata": {},
     "output_type": "execute_result"
    }
   ],
   "source": [
    "hasattr(a2,'name')"
   ]
  },
  {
   "cell_type": "code",
   "execution_count": 28,
   "id": "bc046882",
   "metadata": {},
   "outputs": [],
   "source": [
    "delattr(a1,'name')"
   ]
  },
  {
   "cell_type": "code",
   "execution_count": 32,
   "id": "d65159b4",
   "metadata": {},
   "outputs": [
    {
     "data": {
      "text/plain": [
       "{'age': 20}"
      ]
     },
     "execution_count": 32,
     "metadata": {},
     "output_type": "execute_result"
    }
   ],
   "source": [
    "a1.__dict__"
   ]
  },
  {
   "cell_type": "code",
   "execution_count": 33,
   "id": "f41c766e",
   "metadata": {},
   "outputs": [
    {
     "ename": "AttributeError",
     "evalue": "'Student' object has no attribute 'name'",
     "output_type": "error",
     "traceback": [
      "\u001b[1;31m---------------------------------------------------------------------------\u001b[0m",
      "\u001b[1;31mAttributeError\u001b[0m                            Traceback (most recent call last)",
      "\u001b[1;32m~\\AppData\\Local\\Temp\\ipykernel_7276\\2196603846.py\u001b[0m in \u001b[0;36m<module>\u001b[1;34m\u001b[0m\n\u001b[1;32m----> 1\u001b[1;33m \u001b[0ma1\u001b[0m\u001b[1;33m.\u001b[0m\u001b[0mname\u001b[0m\u001b[1;33m\u001b[0m\u001b[1;33m\u001b[0m\u001b[0m\n\u001b[0m",
      "\u001b[1;31mAttributeError\u001b[0m: 'Student' object has no attribute 'name'"
     ]
    }
   ],
   "source": [
    "a1.name"
   ]
  },
  {
   "cell_type": "code",
   "execution_count": 35,
   "id": "9549b291",
   "metadata": {},
   "outputs": [],
   "source": [
    "setattr(a1,'name','jiya')"
   ]
  },
  {
   "cell_type": "code",
   "execution_count": 38,
   "id": "e7d47045",
   "metadata": {},
   "outputs": [
    {
     "data": {
      "text/plain": [
       "20"
      ]
     },
     "execution_count": 38,
     "metadata": {},
     "output_type": "execute_result"
    }
   ],
   "source": [
    "getattr(a1,'age')"
   ]
  },
  {
   "cell_type": "code",
   "execution_count": 40,
   "id": "a3ba8846",
   "metadata": {},
   "outputs": [
    {
     "data": {
      "text/plain": [
       "'test'"
      ]
     },
     "execution_count": 40,
     "metadata": {},
     "output_type": "execute_result"
    }
   ],
   "source": [
    "# getattr print the value of attribute if present otherwise it will print the provided default value\n",
    "getattr(a2,'name','test')"
   ]
  },
  {
   "cell_type": "markdown",
   "id": "29b4f9b8",
   "metadata": {},
   "source": [
    "### class attribute"
   ]
  },
  {
   "cell_type": "code",
   "execution_count": 41,
   "id": "a14ebba8",
   "metadata": {},
   "outputs": [],
   "source": [
    "Student.totalStudent = 20"
   ]
  },
  {
   "cell_type": "code",
   "execution_count": 43,
   "id": "2e37f287",
   "metadata": {},
   "outputs": [
    {
     "name": "stdout",
     "output_type": "stream",
     "text": [
      "{'__module__': '__main__', '__dict__': <attribute '__dict__' of 'Student' objects>, '__weakref__': <attribute '__weakref__' of 'Student' objects>, '__doc__': None, 'totalStudent': 20}\n"
     ]
    }
   ],
   "source": [
    "# access class attribute same as instance attribute but in class attribute  classname.__dict__\n",
    "print(Student.__dict__)\n",
    "## print all attributes present in the class"
   ]
  },
  {
   "cell_type": "code",
   "execution_count": 54,
   "id": "076bbb0f",
   "metadata": {},
   "outputs": [],
   "source": [
    "# another way of creating class attribute\n",
    "class student :\n",
    "    totalstudent = 32\n",
    "    classteacher = 'komal'\n",
    "s1 = student()\n",
    "s2 = student()"
   ]
  },
  {
   "cell_type": "code",
   "execution_count": 55,
   "id": "f2b18726",
   "metadata": {},
   "outputs": [
    {
     "name": "stdout",
     "output_type": "stream",
     "text": [
      "{'__module__': '__main__', 'totalstudent': 32, 'classteacher': 'komal', '__dict__': <attribute '__dict__' of 'student' objects>, '__weakref__': <attribute '__weakref__' of 'student' objects>, '__doc__': None}\n"
     ]
    }
   ],
   "source": [
    "print(student.__dict__)"
   ]
  },
  {
   "cell_type": "code",
   "execution_count": 56,
   "id": "215beb04",
   "metadata": {},
   "outputs": [
    {
     "data": {
      "text/plain": [
       "32"
      ]
     },
     "execution_count": 56,
     "metadata": {},
     "output_type": "execute_result"
    }
   ],
   "source": [
    "s1.totalstudent"
   ]
  },
  {
   "cell_type": "code",
   "execution_count": 57,
   "id": "f0936208",
   "metadata": {},
   "outputs": [
    {
     "name": "stdout",
     "output_type": "stream",
     "text": [
      "{}\n"
     ]
    }
   ],
   "source": [
    "print(s1.__dict__)"
   ]
  },
  {
   "cell_type": "markdown",
   "id": "b17dbbbb",
   "metadata": {},
   "source": [
    "#### if we update any class attribute with object name that attribute will become instance for that particular object"
   ]
  },
  {
   "cell_type": "code",
   "execution_count": 58,
   "id": "ba838598",
   "metadata": {},
   "outputs": [],
   "source": [
    "s1.totalstudent = 22"
   ]
  },
  {
   "cell_type": "code",
   "execution_count": 59,
   "id": "264a752a",
   "metadata": {},
   "outputs": [
    {
     "name": "stdout",
     "output_type": "stream",
     "text": [
      "{'totalstudent': 22}\n"
     ]
    }
   ],
   "source": [
    "print(s1.__dict__)"
   ]
  },
  {
   "cell_type": "markdown",
   "id": "af864869",
   "metadata": {},
   "source": [
    "## Method:\n",
    "#### instance method : also know as object method. bound to particular object example updateName\n",
    "#### class mehods : which is own by the class example classTeacherName\n",
    "#### static methods"
   ]
  },
  {
   "cell_type": "markdown",
   "id": "cf5b6da4",
   "metadata": {},
   "source": [
    "#### Instance method:\n",
    "##### if call  a1.printHello() --->( internally ) student.printHello(a1)\n",
    "##### so we need to define one argument  which is  (self) we can write what ever we want to write instead of self  "
   ]
  },
  {
   "cell_type": "code",
   "execution_count": 88,
   "id": "b37c4a27",
   "metadata": {},
   "outputs": [],
   "source": [
    "class student :\n",
    "    totalstudent = 32\n",
    "    classteacher = 'komal'\n",
    "    def printhello():\n",
    "        print('hello')\n",
    "s1 = student()\n",
    "s2 = student()"
   ]
  },
  {
   "cell_type": "code",
   "execution_count": 89,
   "id": "556cd108",
   "metadata": {},
   "outputs": [
    {
     "ename": "TypeError",
     "evalue": "printhello() takes 0 positional arguments but 1 was given",
     "output_type": "error",
     "traceback": [
      "\u001b[1;31m---------------------------------------------------------------------------\u001b[0m",
      "\u001b[1;31mTypeError\u001b[0m                                 Traceback (most recent call last)",
      "\u001b[1;32m~\\AppData\\Local\\Temp\\ipykernel_7276\\249823010.py\u001b[0m in \u001b[0;36m<module>\u001b[1;34m\u001b[0m\n\u001b[1;32m----> 1\u001b[1;33m \u001b[0ms1\u001b[0m\u001b[1;33m.\u001b[0m\u001b[0mprinthello\u001b[0m\u001b[1;33m(\u001b[0m\u001b[1;33m)\u001b[0m\u001b[1;33m\u001b[0m\u001b[1;33m\u001b[0m\u001b[0m\n\u001b[0m",
      "\u001b[1;31mTypeError\u001b[0m: printhello() takes 0 positional arguments but 1 was given"
     ]
    }
   ],
   "source": [
    "s1.printhello()"
   ]
  },
  {
   "cell_type": "code",
   "execution_count": 90,
   "id": "e9109d83",
   "metadata": {},
   "outputs": [
    {
     "name": "stdout",
     "output_type": "stream",
     "text": [
      "hello\n"
     ]
    }
   ],
   "source": [
    "student.printhello()"
   ]
  },
  {
   "cell_type": "code",
   "execution_count": 91,
   "id": "85ba087e",
   "metadata": {},
   "outputs": [],
   "source": [
    "class student :\n",
    "    totalstudent = 32\n",
    "    classteacher = 'komal'\n",
    "    def printhello(self):\n",
    "        print('hello')\n",
    "    def printk(self,more):\n",
    "        print(more)\n",
    "s1 = student()\n",
    "s2 = student()"
   ]
  },
  {
   "cell_type": "code",
   "execution_count": 92,
   "id": "9ef4d0a1",
   "metadata": {},
   "outputs": [
    {
     "name": "stdout",
     "output_type": "stream",
     "text": [
      "hello\n"
     ]
    }
   ],
   "source": [
    "s1.printhello()"
   ]
  },
  {
   "cell_type": "code",
   "execution_count": 93,
   "id": "8ecc8980",
   "metadata": {},
   "outputs": [
    {
     "name": "stdout",
     "output_type": "stream",
     "text": [
      "hi\n"
     ]
    }
   ],
   "source": [
    "s2.printk('hi')"
   ]
  },
  {
   "cell_type": "code",
   "execution_count": 94,
   "id": "627c807f",
   "metadata": {},
   "outputs": [
    {
     "ename": "TypeError",
     "evalue": "printhello() missing 1 required positional argument: 'self'",
     "output_type": "error",
     "traceback": [
      "\u001b[1;31m---------------------------------------------------------------------------\u001b[0m",
      "\u001b[1;31mTypeError\u001b[0m                                 Traceback (most recent call last)",
      "\u001b[1;32m~\\AppData\\Local\\Temp\\ipykernel_7276\\3223517760.py\u001b[0m in \u001b[0;36m<module>\u001b[1;34m\u001b[0m\n\u001b[1;32m----> 1\u001b[1;33m \u001b[0mstudent\u001b[0m\u001b[1;33m.\u001b[0m\u001b[0mprinthello\u001b[0m\u001b[1;33m(\u001b[0m\u001b[1;33m)\u001b[0m\u001b[1;33m\u001b[0m\u001b[1;33m\u001b[0m\u001b[0m\n\u001b[0m",
      "\u001b[1;31mTypeError\u001b[0m: printhello() missing 1 required positional argument: 'self'"
     ]
    }
   ],
   "source": [
    "student.printhello()"
   ]
  },
  {
   "cell_type": "code",
   "execution_count": 95,
   "id": "f9866231",
   "metadata": {},
   "outputs": [
    {
     "name": "stdout",
     "output_type": "stream",
     "text": [
      "hello\n"
     ]
    }
   ],
   "source": [
    "student.printhello(s1)"
   ]
  },
  {
   "cell_type": "code",
   "execution_count": 109,
   "id": "69640c31",
   "metadata": {},
   "outputs": [],
   "source": [
    "class student :\n",
    "    totalstudent = 32\n",
    "    classteacher = 'komal'\n",
    "    def printhello(self):\n",
    "        print('hello')\n",
    "    def printk(self,more):\n",
    "        print(more)\n",
    "    def printName(self):\n",
    "        name = 'abc'\n",
    "        print(self.name)\n",
    "        print(name)\n",
    "s1 = student()\n",
    "s2 = student()"
   ]
  },
  {
   "cell_type": "code",
   "execution_count": 110,
   "id": "08ad2716",
   "metadata": {},
   "outputs": [],
   "source": [
    "s1.name = 'mohit'"
   ]
  },
  {
   "cell_type": "code",
   "execution_count": 111,
   "id": "4ff7344b",
   "metadata": {},
   "outputs": [
    {
     "name": "stdout",
     "output_type": "stream",
     "text": [
      "mohit\n",
      "abc\n"
     ]
    }
   ],
   "source": [
    "s1.printName()"
   ]
  },
  {
   "cell_type": "code",
   "execution_count": 135,
   "id": "e7e52106",
   "metadata": {},
   "outputs": [],
   "source": [
    "class student :\n",
    "    totalstudent = 32\n",
    "    classteacher = 'komal'\n",
    "    def printhello(self):\n",
    "        print('hello')\n",
    "    def printk(self,more):\n",
    "        print(more)\n",
    "    def printName(self):\n",
    "        name = 'abc'\n",
    "        print(self.name)\n",
    "        print(name)\n",
    "    def addName(self,name):\n",
    "        self.name = name\n",
    "    def test(self):\n",
    "        student.totalstudent = 20\n",
    "        print(student.totalstudent)\n",
    "          \n",
    "s1 = student()\n",
    "s2 = student()"
   ]
  },
  {
   "cell_type": "code",
   "execution_count": 136,
   "id": "339443e0",
   "metadata": {},
   "outputs": [],
   "source": [
    "# create instance\n",
    "s1.addName('sadu')"
   ]
  },
  {
   "cell_type": "code",
   "execution_count": 137,
   "id": "7787d42e",
   "metadata": {},
   "outputs": [
    {
     "data": {
      "text/plain": [
       "{'name': 'sadu'}"
      ]
     },
     "execution_count": 137,
     "metadata": {},
     "output_type": "execute_result"
    }
   ],
   "source": [
    "s1.__dict__"
   ]
  },
  {
   "cell_type": "code",
   "execution_count": 138,
   "id": "86758e12",
   "metadata": {},
   "outputs": [
    {
     "data": {
      "text/plain": [
       "{'name': 'motu'}"
      ]
     },
     "execution_count": 138,
     "metadata": {},
     "output_type": "execute_result"
    }
   ],
   "source": [
    "# update instance\n",
    "s1.addName('motu')\n",
    "s1.__dict__"
   ]
  },
  {
   "cell_type": "code",
   "execution_count": 139,
   "id": "493a3f6f",
   "metadata": {},
   "outputs": [
    {
     "name": "stdout",
     "output_type": "stream",
     "text": [
      "20\n"
     ]
    }
   ],
   "source": [
    "s1.test()"
   ]
  },
  {
   "cell_type": "markdown",
   "id": "672fa23b",
   "metadata": {},
   "source": [
    "### constructor: \n",
    "##### special function or instance  method  which is basically used to  initailize the properties of our object. And this is called by default as soon as we create our object"
   ]
  },
  {
   "cell_type": "code",
   "execution_count": 143,
   "id": "af9a8464",
   "metadata": {},
   "outputs": [],
   "source": [
    "class student :\n",
    "    # constructor ar define as __init__\n",
    "    def __init__ (self):\n",
    "        self.name ='jiya'\n",
    "        self.age = 20\n",
    "        self.rollNo =4\n",
    "    \n",
    "    totalstudent = 32\n",
    "    classteacher = 'komal'\n",
    "    def printhello(self):\n",
    "        print('hello')\n",
    "    def printk(self,more):\n",
    "        print(more)\n",
    "    def printName(self):\n",
    "        name = 'abc'\n",
    "        print(self.name)\n",
    "        print(name)\n",
    "s1 = student()\n",
    "s2 = student()"
   ]
  },
  {
   "cell_type": "code",
   "execution_count": 144,
   "id": "5f3e3f98",
   "metadata": {},
   "outputs": [
    {
     "name": "stdout",
     "output_type": "stream",
     "text": [
      "{'name': 'jiya', 'age': 20, 'rollNo': 4}\n"
     ]
    }
   ],
   "source": [
    "print(s1.__dict__)"
   ]
  },
  {
   "cell_type": "code",
   "execution_count": 145,
   "id": "8a20eb6e",
   "metadata": {},
   "outputs": [],
   "source": [
    "class student :\n",
    "    # constructor ar define as __init__\n",
    "    def __init__ (self,name,age,rollNo):\n",
    "        self.name = name\n",
    "        self.age = age\n",
    "        self.rollNo = rollNo\n",
    "    \n",
    "    totalstudent = 32\n",
    "    classteacher = 'komal'\n",
    "    def printhello(self):\n",
    "        print('hello')\n",
    "    def printk(self,more):\n",
    "        print(more)\n",
    "    def printName(self):\n",
    "        name = 'abc'\n",
    "        print(self.name)\n",
    "        print(name)\n",
    "s1 = student('jiya',20,4)\n",
    "s2 = student('bhaiyu',22,22)"
   ]
  },
  {
   "cell_type": "code",
   "execution_count": null,
   "id": "5893e221",
   "metadata": {},
   "outputs": [],
   "source": []
  },
  {
   "cell_type": "code",
   "execution_count": 147,
   "id": "674f3298",
   "metadata": {
    "scrolled": true
   },
   "outputs": [
    {
     "name": "stdout",
     "output_type": "stream",
     "text": [
      "{'name': 'jiya', 'age': 20, 'rollNo': 4}\n",
      "{'name': 'bhaiyu', 'age': 22, 'rollNo': 22}\n"
     ]
    }
   ],
   "source": [
    "print(s1.__dict__)\n",
    "print(s2.__dict__)"
   ]
  },
  {
   "cell_type": "markdown",
   "id": "8df17ae8",
   "metadata": {},
   "source": [
    "#### constructor overloading is not allowed in python .we usee variable argument in python"
   ]
  },
  {
   "cell_type": "markdown",
   "id": "81492891",
   "metadata": {},
   "source": [
    "### Access modifier : define the accessibility of any property and method\n",
    "#### private --> inside class use ( __ ) for defining private access modifier\n",
    "#### public --> everywhere\n",
    "#### protected (_)"
   ]
  },
  {
   "cell_type": "markdown",
   "id": "c5fc9065",
   "metadata": {},
   "source": [
    "Private : we access private attribute use public methods in the same class"
   ]
  },
  {
   "cell_type": "code",
   "execution_count": 165,
   "id": "0ab50ff4",
   "metadata": {},
   "outputs": [],
   "source": [
    "class student :\n",
    "    classteacher = 'komal'\n",
    "    __totalstudent = 32\n",
    "    def gettotal(self):\n",
    "        return student.__totalstudent\n",
    "\n",
    "    # constructor ar define as __init__\n",
    "    def __init__ (self,name,age,rollNo):\n",
    "        self.name = name\n",
    "        self.age = age\n",
    "        self.rollNo = rollNo\n",
    "    \n",
    "s1 = student('jiya',20,4)\n",
    "s2 = student('bhaiyu',22,22)"
   ]
  },
  {
   "cell_type": "code",
   "execution_count": 164,
   "id": "a9e66c7c",
   "metadata": {},
   "outputs": [
    {
     "ename": "AttributeError",
     "evalue": "type object 'student' has no attribute '__totalstudent'",
     "output_type": "error",
     "traceback": [
      "\u001b[1;31m---------------------------------------------------------------------------\u001b[0m",
      "\u001b[1;31mAttributeError\u001b[0m                            Traceback (most recent call last)",
      "\u001b[1;32m~\\AppData\\Local\\Temp\\ipykernel_7276\\3757136555.py\u001b[0m in \u001b[0;36m<module>\u001b[1;34m\u001b[0m\n\u001b[1;32m----> 1\u001b[1;33m \u001b[0mprint\u001b[0m\u001b[1;33m(\u001b[0m\u001b[0mstudent\u001b[0m\u001b[1;33m.\u001b[0m\u001b[0m__totalstudent\u001b[0m\u001b[1;33m)\u001b[0m\u001b[1;33m\u001b[0m\u001b[1;33m\u001b[0m\u001b[0m\n\u001b[0m",
      "\u001b[1;31mAttributeError\u001b[0m: type object 'student' has no attribute '__totalstudent'"
     ]
    }
   ],
   "source": [
    "print(student.__totalstudent)"
   ]
  },
  {
   "cell_type": "code",
   "execution_count": 168,
   "id": "dcdbed31",
   "metadata": {},
   "outputs": [
    {
     "name": "stdout",
     "output_type": "stream",
     "text": [
      "32\n",
      "32\n"
     ]
    }
   ],
   "source": [
    "print(s1.gettotal())\n",
    "print(student.gettotal(s1))"
   ]
  },
  {
   "cell_type": "code",
   "execution_count": 169,
   "id": "baf6be0b",
   "metadata": {},
   "outputs": [],
   "source": [
    "class student :\n",
    "    classteacher = 'komal'\n",
    "    __totalstudent = 32\n",
    "    # decorates\n",
    "    \n",
    "    @classmethod # it indicates this method is class method\n",
    "    def gettotal(cls):\n",
    "        return student.__totalstudent\n",
    "\n",
    "    # constructor ar define as __init__\n",
    "    def __init__ (self,name,age,rollNo):\n",
    "        self.name = name\n",
    "        self.age = age\n",
    "        self.rollNo = rollNo\n",
    "    \n",
    "s1 = student('jiya',20,4)\n",
    "s2 = student('bhaiyu',22,22)"
   ]
  },
  {
   "cell_type": "code",
   "execution_count": 170,
   "id": "e20756dd",
   "metadata": {},
   "outputs": [
    {
     "name": "stdout",
     "output_type": "stream",
     "text": [
      "32\n"
     ]
    }
   ],
   "source": [
    "print(student.gettotal())"
   ]
  },
  {
   "cell_type": "code",
   "execution_count": null,
   "id": "442754b1",
   "metadata": {},
   "outputs": [],
   "source": []
  }
 ],
 "metadata": {
  "kernelspec": {
   "display_name": "Python 3 (ipykernel)",
   "language": "python",
   "name": "python3"
  },
  "language_info": {
   "codemirror_mode": {
    "name": "ipython",
    "version": 3
   },
   "file_extension": ".py",
   "mimetype": "text/x-python",
   "name": "python",
   "nbconvert_exporter": "python",
   "pygments_lexer": "ipython3",
   "version": "3.9.13"
  }
 },
 "nbformat": 4,
 "nbformat_minor": 5
}
