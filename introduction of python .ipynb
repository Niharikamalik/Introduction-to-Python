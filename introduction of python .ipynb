{
 "cells": [
  {
   "cell_type": "markdown",
   "id": "a6d1b1ca",
   "metadata": {},
   "source": [
    "## Python "
   ]
  },
  {
   "cell_type": "markdown",
   "id": "08dbc0b4",
   "metadata": {},
   "source": [
    "### Print :\n"
   ]
  },
  {
   "cell_type": "code",
   "execution_count": 1,
   "id": "5e1c18f0",
   "metadata": {},
   "outputs": [
    {
     "name": "stdout",
     "output_type": "stream",
     "text": [
      "sum\n"
     ]
    }
   ],
   "source": [
    "print(\"sum\")"
   ]
  },
  {
   "cell_type": "code",
   "execution_count": 2,
   "id": "fae761a3",
   "metadata": {},
   "outputs": [
    {
     "data": {
      "text/plain": [
       "22"
      ]
     },
     "execution_count": 2,
     "metadata": {},
     "output_type": "execute_result"
    }
   ],
   "source": [
    "# gives output of the program \n",
    "a=10\n",
    "b=12\n",
    "a+b"
   ]
  },
  {
   "cell_type": "code",
   "execution_count": 4,
   "id": "56dd5668",
   "metadata": {},
   "outputs": [
    {
     "name": "stdout",
     "output_type": "stream",
     "text": [
      "22\n"
     ]
    }
   ],
   "source": [
    "# print the output of the program \n",
    "sum = a+b \n",
    "print(sum)"
   ]
  },
  {
   "cell_type": "markdown",
   "id": "ba6817eb",
   "metadata": {},
   "source": [
    "### Variables : \n",
    "\n",
    "variables are used to store data\n",
    "variables does not start with (symbol and numbers)\n",
    "in above program a,b,sum are the example of variables "
   ]
  },
  {
   "cell_type": "markdown",
   "id": "00ca8fd3",
   "metadata": {},
   "source": [
    "### Data type in python : in python we don't need to define  data type with variables \n",
    "##### Numeric data types: \n",
    "int, float, complex\n",
    "##### String data types:\n",
    "str\n",
    "##### Sequence types\n",
    ": list, tuple, range\n",
    "##### Binary types:\n",
    "bytes, bytearray, memoryview\n",
    "##### Mapping data type:\n",
    "dict\n",
    "##### Boolean type: \n",
    "bool\n",
    "##### Set data types:\n",
    "set, frozenset"
   ]
  },
  {
   "cell_type": "markdown",
   "id": "34bd9f2c",
   "metadata": {},
   "source": [
    "#### type() : type function is used to check the data type of the variable or data"
   ]
  },
  {
   "cell_type": "code",
   "execution_count": 11,
   "id": "9370086a",
   "metadata": {},
   "outputs": [
    {
     "name": "stdout",
     "output_type": "stream",
     "text": [
      "<class 'int'>\n",
      "<class 'str'>\n"
     ]
    }
   ],
   "source": [
    "print(type(23))\n",
    "a=\"hello\"\n",
    "print(type(a))"
   ]
  },
  {
   "cell_type": "markdown",
   "id": "4a5b2a5e",
   "metadata": {},
   "source": [
    "### how variables are store in python and other languages (java & C++) :\n",
    "#### In java if we assign\n",
    "int a = 12\n",
    "###### this means a is assigned with specific store space which is 4 bytes in this case  if you need to change the value of a it should be integer value (int)  always\n",
    "#### but in python \n",
    "###### you can assign any type of value to the variable a . there is no fixed storage in python if you change the assigned value for example\n",
    "a = 10 \n",
    "a = 20\n",
    "##### a first have the address stroage of where 10 is stored after assigning a=20 variable a store the address of storage  where 20 is present \n",
    "#### id () :\n",
    "id function is used to check the address where data (value) is present \n",
    "###### # if two or more variable having same value then they both were store same address but only for the values between -5 to 256\n",
    " "
   ]
  },
  {
   "cell_type": "code",
   "execution_count": 15,
   "id": "337bb82c",
   "metadata": {},
   "outputs": [
    {
     "name": "stdout",
     "output_type": "stream",
     "text": [
      "2741345117808\n",
      "2741345119600\n"
     ]
    }
   ],
   "source": [
    "\n",
    "a = 256\n",
    "b = 256\n",
    "print(id(a))\n",
    "print(id(b))"
   ]
  },
  {
   "cell_type": "code",
   "execution_count": 16,
   "id": "af63a0fc",
   "metadata": {},
   "outputs": [
    {
     "name": "stdout",
     "output_type": "stream",
     "text": [
      "2741345118544\n",
      "2741345117392\n"
     ]
    }
   ],
   "source": [
    "a = 266 \n",
    "b = 266 \n",
    "print(id(a))\n",
    "print(id(b))"
   ]
  },
  {
   "cell_type": "markdown",
   "id": "13281a49",
   "metadata": {},
   "source": [
    "### Arithmetic operator :"
   ]
  },
  {
   "cell_type": "code",
   "execution_count": 2,
   "id": "d0c37c01",
   "metadata": {},
   "outputs": [
    {
     "name": "stdout",
     "output_type": "stream",
     "text": [
      "12\n",
      "8\n",
      "20\n",
      "5.0\n",
      "5\n",
      "0\n",
      "100\n"
     ]
    }
   ],
   "source": [
    "a = 10\n",
    "b = 2\n",
    "print(a+b) # add  \n",
    "print(a-b) # subtract\n",
    "print(a*b) # multipilication \n",
    "print(a/b) # float division \n",
    "print(a//b)# integer division\n",
    "print(a%b) # remainder\n",
    "print(a**b)# exponiential"
   ]
  },
  {
   "cell_type": "markdown",
   "id": "bc8e87a5",
   "metadata": {},
   "source": [
    "#### simple interest "
   ]
  },
  {
   "cell_type": "code",
   "execution_count": 9,
   "id": "a2fa037e",
   "metadata": {},
   "outputs": [
    {
     "data": {
      "text/plain": [
       "48.0"
      ]
     },
     "execution_count": 9,
     "metadata": {},
     "output_type": "execute_result"
    }
   ],
   "source": [
    "p = 1200\n",
    "r = 2 \n",
    "t= 2 \n",
    "si = (p*r*t)/100\n",
    "si"
   ]
  },
  {
   "cell_type": "markdown",
   "id": "cd7bf26c",
   "metadata": {},
   "source": [
    " #### Fahrenheit to celsius"
   ]
  },
  {
   "cell_type": "code",
   "execution_count": 10,
   "id": "cb3ff75d",
   "metadata": {},
   "outputs": [
    {
     "data": {
      "text/plain": [
       "37.77777777777778"
      ]
     },
     "execution_count": 10,
     "metadata": {},
     "output_type": "execute_result"
    }
   ],
   "source": [
    "f=100\n",
    "c = (f-32)*5/9\n",
    "c"
   ]
  },
  {
   "cell_type": "markdown",
   "id": "5d265ad6",
   "metadata": {},
   "source": [
    "### input() :\n",
    "#####  input() is used to take input from the user but it take input as string \n",
    "#####  for converting string into integer use int(input())\n",
    "#####  for converting string into float use float(input()) and so on "
   ]
  },
  {
   "cell_type": "code",
   "execution_count": 12,
   "id": "a9de7be6",
   "metadata": {},
   "outputs": [
    {
     "name": "stdout",
     "output_type": "stream",
     "text": [
      "23\n"
     ]
    },
    {
     "data": {
      "text/plain": [
       "'23'"
      ]
     },
     "execution_count": 12,
     "metadata": {},
     "output_type": "execute_result"
    }
   ],
   "source": [
    "input()"
   ]
  },
  {
   "cell_type": "code",
   "execution_count": 14,
   "id": "2c560a4b",
   "metadata": {},
   "outputs": [
    {
     "name": "stdout",
     "output_type": "stream",
     "text": [
      "34\n",
      "34\n"
     ]
    },
    {
     "data": {
      "text/plain": [
       "str"
      ]
     },
     "execution_count": 14,
     "metadata": {},
     "output_type": "execute_result"
    }
   ],
   "source": [
    "c=input()\n",
    "print(c)\n",
    "type(c)"
   ]
  },
  {
   "cell_type": "code",
   "execution_count": 18,
   "id": "7a394ad9",
   "metadata": {},
   "outputs": [
    {
     "name": "stdout",
     "output_type": "stream",
     "text": [
      "45\n",
      "<class 'int'>\n",
      "67.8\n",
      "<class 'float'>\n"
     ]
    }
   ],
   "source": [
    "c= int(input())\n",
    "print(type(c))\n",
    "c= float(input())\n",
    "print(type(c))"
   ]
  },
  {
   "cell_type": "markdown",
   "id": "40049254",
   "metadata": {},
   "source": [
    "### simple interest by taking input from the user "
   ]
  },
  {
   "cell_type": "code",
   "execution_count": 19,
   "id": "7237f749",
   "metadata": {},
   "outputs": [
    {
     "name": "stdout",
     "output_type": "stream",
     "text": [
      "1200\n",
      "12\n",
      "2\n",
      "288.0\n"
     ]
    }
   ],
   "source": [
    "p = int(input())\n",
    "r = int(input())\n",
    "t = int(input())\n",
    "si = (p*r*t)/100\n",
    "print(si)"
   ]
  },
  {
   "cell_type": "markdown",
   "id": "6ceba59e",
   "metadata": {},
   "source": [
    "### Write a program to input marks of three tests of a student (all integers). Then calculate and print the average of all test marks . "
   ]
  },
  {
   "cell_type": "code",
   "execution_count": 21,
   "id": "44fe034b",
   "metadata": {},
   "outputs": [
    {
     "name": "stdout",
     "output_type": "stream",
     "text": [
      "23\n",
      "24\n",
      "25\n",
      "24.0\n"
     ]
    }
   ],
   "source": [
    "test1 = int(input())\n",
    "test2 = int(input())\n",
    "test3 = int(input())\n",
    "Average = (test1+test2+test3)/3\n",
    "print(Average)"
   ]
  }
 ],
 "metadata": {
  "kernelspec": {
   "display_name": "Python 3 (ipykernel)",
   "language": "python",
   "name": "python3"
  },
  "language_info": {
   "codemirror_mode": {
    "name": "ipython",
    "version": 3
   },
   "file_extension": ".py",
   "mimetype": "text/x-python",
   "name": "python",
   "nbconvert_exporter": "python",
   "pygments_lexer": "ipython3",
   "version": "3.9.13"
  }
 },
 "nbformat": 4,
 "nbformat_minor": 5
}
