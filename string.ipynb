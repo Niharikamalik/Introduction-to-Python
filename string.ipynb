{
 "cells": [
  {
   "cell_type": "markdown",
   "id": "bbb2be4b",
   "metadata": {},
   "source": [
    "### String"
   ]
  },
  {
   "cell_type": "code",
   "execution_count": 1,
   "id": "c4abee3a",
   "metadata": {},
   "outputs": [],
   "source": [
    "a = 'adlkjfhi'\n",
    "b = \"assdnlkf\""
   ]
  },
  {
   "cell_type": "code",
   "execution_count": 2,
   "id": "14a10d02",
   "metadata": {},
   "outputs": [
    {
     "data": {
      "text/plain": [
       "'adlkjfhi'"
      ]
     },
     "execution_count": 2,
     "metadata": {},
     "output_type": "execute_result"
    }
   ],
   "source": [
    "a"
   ]
  },
  {
   "cell_type": "code",
   "execution_count": 3,
   "id": "de29f951",
   "metadata": {},
   "outputs": [
    {
     "data": {
      "text/plain": [
       "'assdnlkf'"
      ]
     },
     "execution_count": 3,
     "metadata": {},
     "output_type": "execute_result"
    }
   ],
   "source": [
    "b"
   ]
  },
  {
   "cell_type": "markdown",
   "id": "a75a6de2",
   "metadata": {},
   "source": [
    "#### In python you can write string in both single quote ('string') and double quote (\"string\")\n",
    "#### In python there is no character data type (char)"
   ]
  },
  {
   "cell_type": "code",
   "execution_count": 5,
   "id": "522a8f8a",
   "metadata": {},
   "outputs": [
    {
     "data": {
      "text/plain": [
       "(str, str)"
      ]
     },
     "execution_count": 5,
     "metadata": {},
     "output_type": "execute_result"
    }
   ],
   "source": [
    "type(a),type(b)"
   ]
  },
  {
   "cell_type": "markdown",
   "id": "2a57896a",
   "metadata": {},
   "source": [
    "#### Access characters of the string using indexing"
   ]
  },
  {
   "cell_type": "code",
   "execution_count": 7,
   "id": "98627838",
   "metadata": {},
   "outputs": [
    {
     "data": {
      "text/plain": [
       "('l', str)"
      ]
     },
     "execution_count": 7,
     "metadata": {},
     "output_type": "execute_result"
    }
   ],
   "source": [
    "a[2],type(a[2])"
   ]
  },
  {
   "cell_type": "markdown",
   "id": "d3589d33",
   "metadata": {},
   "source": [
    "#### you can not change character of the string because string is immutable \n",
    "#### but we can assign whole new string to the variable"
   ]
  },
  {
   "cell_type": "code",
   "execution_count": 8,
   "id": "c6ea8f95",
   "metadata": {},
   "outputs": [
    {
     "ename": "TypeError",
     "evalue": "'str' object does not support item assignment",
     "output_type": "error",
     "traceback": [
      "\u001b[1;31m---------------------------------------------------------------------------\u001b[0m",
      "\u001b[1;31mTypeError\u001b[0m                                 Traceback (most recent call last)",
      "\u001b[1;32m~\\AppData\\Local\\Temp\\ipykernel_15668\\1367758733.py\u001b[0m in \u001b[0;36m<module>\u001b[1;34m\u001b[0m\n\u001b[1;32m----> 1\u001b[1;33m \u001b[0ma\u001b[0m \u001b[1;33m[\u001b[0m\u001b[1;36m3\u001b[0m\u001b[1;33m]\u001b[0m \u001b[1;33m=\u001b[0m\u001b[1;34m\"s\"\u001b[0m\u001b[1;33m\u001b[0m\u001b[1;33m\u001b[0m\u001b[0m\n\u001b[0m",
      "\u001b[1;31mTypeError\u001b[0m: 'str' object does not support item assignment"
     ]
    }
   ],
   "source": [
    "a [3] =\"s\""
   ]
  },
  {
   "cell_type": "code",
   "execution_count": 10,
   "id": "557888a1",
   "metadata": {},
   "outputs": [
    {
     "data": {
      "text/plain": [
       "'erfwef'"
      ]
     },
     "execution_count": 10,
     "metadata": {},
     "output_type": "execute_result"
    }
   ],
   "source": [
    "a = \"erfwef\"\n",
    "a"
   ]
  },
  {
   "cell_type": "markdown",
   "id": "2bbf5cbf",
   "metadata": {},
   "source": [
    "#### In python you can not use ( \" \" \") double quote between double quotes\n",
    "#### and ( '  '  ' ) single quote between single quotes .\n",
    "#### but you can use (\" ' \") , (' \" '),(\" \\\\\" \") and (' \\\\' '). "
   ]
  },
  {
   "cell_type": "code",
   "execution_count": 20,
   "id": "1666766e",
   "metadata": {},
   "outputs": [
    {
     "name": "stdout",
     "output_type": "stream",
     "text": [
      "A,this is flowchat of proposed system's website \n",
      " B,this is flowchat of proposed system\"s website \n",
      " C,this is flowchat of proposed system\"s website \n",
      " D,this is flowchat of proposed system's website\n"
     ]
    }
   ],
   "source": [
    "a = \"A,this is flowchat of proposed system's website\"\n",
    "b = 'B,this is flowchat of proposed system\"s website'\n",
    "c = \"C,this is flowchat of proposed system\\\"s website\"\n",
    "d = 'D,this is flowchat of proposed system\\'s website'\n",
    "print(a,\"\\n\",b,'\\n',c,\"\\n\",d)"
   ]
  },
  {
   "cell_type": "code",
   "execution_count": 22,
   "id": "87b37cb5",
   "metadata": {},
   "outputs": [
    {
     "data": {
      "text/plain": [
       "(\"A,this is flowchat of proposed system's website\",\n",
       " 'B,this is flowchat of proposed system\"s website',\n",
       " 'C,this is flowchat of proposed system\"s website',\n",
       " \"D,this is flowchat of proposed system's website\")"
      ]
     },
     "execution_count": 22,
     "metadata": {},
     "output_type": "execute_result"
    }
   ],
   "source": [
    "a,b,c,d"
   ]
  },
  {
   "cell_type": "code",
   "execution_count": 24,
   "id": "64cc5d04",
   "metadata": {},
   "outputs": [],
   "source": [
    " b = \" but it is not correct\""
   ]
  },
  {
   "cell_type": "markdown",
   "id": "a4e8e5bd",
   "metadata": {},
   "source": [
    "### concatenate\n"
   ]
  },
  {
   "cell_type": "code",
   "execution_count": 27,
   "id": "feaed4bb",
   "metadata": {},
   "outputs": [
    {
     "data": {
      "text/plain": [
       "\"A,this is flowchat of proposed system's website but it is not correct but it is not correct\""
      ]
     },
     "execution_count": 27,
     "metadata": {},
     "output_type": "execute_result"
    }
   ],
   "source": [
    "a = a+b\n",
    "a"
   ]
  },
  {
   "cell_type": "code",
   "execution_count": 28,
   "id": "6f8c7f68",
   "metadata": {},
   "outputs": [
    {
     "data": {
      "text/plain": [
       "False"
      ]
     },
     "execution_count": 28,
     "metadata": {},
     "output_type": "execute_result"
    }
   ],
   "source": [
    "a == b"
   ]
  },
  {
   "cell_type": "code",
   "execution_count": 29,
   "id": "319ed8b6",
   "metadata": {},
   "outputs": [
    {
     "data": {
      "text/plain": [
       "True"
      ]
     },
     "execution_count": 29,
     "metadata": {},
     "output_type": "execute_result"
    }
   ],
   "source": [
    "a>b"
   ]
  },
  {
   "cell_type": "markdown",
   "id": "0e952991",
   "metadata": {},
   "source": [
    "### split"
   ]
  },
  {
   "cell_type": "code",
   "execution_count": 31,
   "id": "caff01d6",
   "metadata": {},
   "outputs": [
    {
     "data": {
      "text/plain": [
       "['but', 'it', 'is', 'not', 'correct']"
      ]
     },
     "execution_count": 31,
     "metadata": {},
     "output_type": "execute_result"
    }
   ],
   "source": [
    "b.split()"
   ]
  },
  {
   "cell_type": "code",
   "execution_count": 33,
   "id": "a81d6444",
   "metadata": {},
   "outputs": [
    {
     "data": {
      "text/plain": [
       "[' but ', 't ', 's not correct']"
      ]
     },
     "execution_count": 33,
     "metadata": {},
     "output_type": "execute_result"
    }
   ],
   "source": [
    "b.split(\"i\")"
   ]
  },
  {
   "cell_type": "code",
   "execution_count": 35,
   "id": "0945c7e2",
   "metadata": {},
   "outputs": [
    {
     "data": {
      "text/plain": [
       "' but this is not correct'"
      ]
     },
     "execution_count": 35,
     "metadata": {},
     "output_type": "execute_result"
    }
   ],
   "source": [
    "b.replace(\"it\", \"this\")"
   ]
  },
  {
   "cell_type": "code",
   "execution_count": 41,
   "id": "5981baae",
   "metadata": {},
   "outputs": [
    {
     "data": {
      "text/plain": [
       "' but it is not correct'"
      ]
     },
     "execution_count": 41,
     "metadata": {},
     "output_type": "execute_result"
    }
   ],
   "source": [
    "b # original string will not change "
   ]
  },
  {
   "cell_type": "code",
   "execution_count": 38,
   "id": "26d059a1",
   "metadata": {},
   "outputs": [
    {
     "data": {
      "text/plain": [
       "' but it is not correct'"
      ]
     },
     "execution_count": 38,
     "metadata": {},
     "output_type": "execute_result"
    }
   ],
   "source": [
    "b.lower()"
   ]
  },
  {
   "cell_type": "code",
   "execution_count": 39,
   "id": "5d486b03",
   "metadata": {},
   "outputs": [
    {
     "data": {
      "text/plain": [
       "' BUT IT IS NOT CORRECT'"
      ]
     },
     "execution_count": 39,
     "metadata": {},
     "output_type": "execute_result"
    }
   ],
   "source": [
    "b.upper()"
   ]
  },
  {
   "cell_type": "code",
   "execution_count": 40,
   "id": "4d5ffdbf",
   "metadata": {},
   "outputs": [
    {
     "data": {
      "text/plain": [
       "True"
      ]
     },
     "execution_count": 40,
     "metadata": {},
     "output_type": "execute_result"
    }
   ],
   "source": [
    "b.islower()"
   ]
  },
  {
   "cell_type": "code",
   "execution_count": 42,
   "id": "45f466a1",
   "metadata": {},
   "outputs": [
    {
     "data": {
      "text/plain": [
       "-1"
      ]
     },
     "execution_count": 42,
     "metadata": {},
     "output_type": "execute_result"
    }
   ],
   "source": [
    "b.find(\"are\")"
   ]
  },
  {
   "cell_type": "code",
   "execution_count": 43,
   "id": "d52cd098",
   "metadata": {},
   "outputs": [
    {
     "data": {
      "text/plain": [
       "8"
      ]
     },
     "execution_count": 43,
     "metadata": {},
     "output_type": "execute_result"
    }
   ],
   "source": [
    "b.find(\"is\")"
   ]
  },
  {
   "cell_type": "code",
   "execution_count": 45,
   "id": "98b566aa",
   "metadata": {},
   "outputs": [
    {
     "data": {
      "text/plain": [
       "False"
      ]
     },
     "execution_count": 45,
     "metadata": {},
     "output_type": "execute_result"
    }
   ],
   "source": [
    "b.isalpha()"
   ]
  },
  {
   "cell_type": "code",
   "execution_count": 47,
   "id": "5b917741",
   "metadata": {},
   "outputs": [
    {
     "data": {
      "text/plain": [
       "True"
      ]
     },
     "execution_count": 47,
     "metadata": {},
     "output_type": "execute_result"
    }
   ],
   "source": [
    "c=\"is\"\n",
    "c.isalpha()"
   ]
  },
  {
   "cell_type": "code",
   "execution_count": 49,
   "id": "544c5157",
   "metadata": {},
   "outputs": [
    {
     "data": {
      "text/plain": [
       "True"
      ]
     },
     "execution_count": 49,
     "metadata": {},
     "output_type": "execute_result"
    }
   ],
   "source": [
    "b.startswith(\" but\")"
   ]
  },
  {
   "cell_type": "markdown",
   "id": "cca09392",
   "metadata": {},
   "source": [
    "### string slicing : used to divide string in substrings"
   ]
  },
  {
   "cell_type": "code",
   "execution_count": 1,
   "id": "d07e85cc",
   "metadata": {},
   "outputs": [
    {
     "data": {
      "text/plain": [
       "'is is'"
      ]
     },
     "execution_count": 1,
     "metadata": {},
     "output_type": "execute_result"
    }
   ],
   "source": [
    "a = \"this is slicing\"\n",
    "a[2:7] # [starting index : ending index]"
   ]
  },
  {
   "cell_type": "code",
   "execution_count": 2,
   "id": "f673477b",
   "metadata": {},
   "outputs": [
    {
     "data": {
      "text/plain": [
       "'this is '"
      ]
     },
     "execution_count": 2,
     "metadata": {},
     "output_type": "execute_result"
    }
   ],
   "source": [
    "a[:8] # taking all the character form index 0 to mentioned ending index"
   ]
  },
  {
   "cell_type": "code",
   "execution_count": 5,
   "id": "f852f760",
   "metadata": {},
   "outputs": [
    {
     "data": {
      "text/plain": [
       "' is slicing'"
      ]
     },
     "execution_count": 5,
     "metadata": {},
     "output_type": "execute_result"
    }
   ],
   "source": [
    "a[4:] # take string form mentioned starting index till the end "
   ]
  },
  {
   "cell_type": "code",
   "execution_count": 7,
   "id": "dc8445ea",
   "metadata": {
    "scrolled": true
   },
   "outputs": [
    {
     "data": {
      "text/plain": [
       "'this is slicing'"
      ]
     },
     "execution_count": 7,
     "metadata": {},
     "output_type": "execute_result"
    }
   ],
   "source": [
    "a[:]# print whole string"
   ]
  },
  {
   "cell_type": "markdown",
   "id": "abbfc4e1",
   "metadata": {},
   "source": [
    "#### replace first occurance of x with y"
   ]
  },
  {
   "cell_type": "code",
   "execution_count": 12,
   "id": "bf7c2926",
   "metadata": {},
   "outputs": [
    {
     "name": "stdout",
     "output_type": "stream",
     "text": [
      "asdxfgh\n"
     ]
    },
    {
     "data": {
      "text/plain": [
       "'asdyfgh'"
      ]
     },
     "execution_count": 12,
     "metadata": {},
     "output_type": "execute_result"
    }
   ],
   "source": [
    "s = input()\n",
    "ans = s\n",
    "p = s.find(\"x\")\n",
    "if p!= -1:\n",
    "    ans = s[:p]+\"y\"+s[p+1:]\n",
    "ans    "
   ]
  },
  {
   "cell_type": "markdown",
   "id": "9c54a4a9",
   "metadata": {},
   "source": [
    "#### Replace all occurance of x with y"
   ]
  },
  {
   "cell_type": "code",
   "execution_count": 11,
   "id": "1fa91a41",
   "metadata": {},
   "outputs": [
    {
     "name": "stdout",
     "output_type": "stream",
     "text": [
      "asdxfghxjklx\n"
     ]
    },
    {
     "data": {
      "text/plain": [
       "'asdyfghyjkly'"
      ]
     },
     "execution_count": 11,
     "metadata": {},
     "output_type": "execute_result"
    }
   ],
   "source": [
    "s = input()\n",
    "ans = s\n",
    "for i in range(0,len(ans),1):\n",
    "    if ans[i] == \"x\" :\n",
    "        ans = ans[:i]+\"y\"+ans[i+1:]\n",
    "ans        "
   ]
  },
  {
   "cell_type": "markdown",
   "id": "2aa9f240",
   "metadata": {},
   "source": [
    "#### check if string is palindrome or not"
   ]
  },
  {
   "cell_type": "code",
   "execution_count": 26,
   "id": "3b389405",
   "metadata": {},
   "outputs": [
    {
     "name": "stdout",
     "output_type": "stream",
     "text": [
      "palindrome\n"
     ]
    }
   ],
   "source": [
    "a = \"abcba\"\n",
    "b = a[::-1]\n",
    "if a==b :\n",
    "    print('palindrome')\n",
    "else :\n",
    "    print(\"not a palindrome\")"
   ]
  }
 ],
 "metadata": {
  "kernelspec": {
   "display_name": "Python 3 (ipykernel)",
   "language": "python",
   "name": "python3"
  },
  "language_info": {
   "codemirror_mode": {
    "name": "ipython",
    "version": 3
   },
   "file_extension": ".py",
   "mimetype": "text/x-python",
   "name": "python",
   "nbconvert_exporter": "python",
   "pygments_lexer": "ipython3",
   "version": "3.9.13"
  }
 },
 "nbformat": 4,
 "nbformat_minor": 5
}
