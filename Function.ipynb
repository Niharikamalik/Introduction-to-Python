{
 "cells": [
  {
   "cell_type": "markdown",
   "id": "0fe82d17",
   "metadata": {},
   "source": [
    "## Function \n",
    "#### why we need function \n",
    "#### 1. avoid repeatation \n",
    "#### 2. improve readablity\n",
    "#### 3. testing become easier"
   ]
  },
  {
   "cell_type": "markdown",
   "id": "2783c54c",
   "metadata": {},
   "source": [
    "#### Factorial"
   ]
  },
  {
   "cell_type": "code",
   "execution_count": 9,
   "id": "57c85c87",
   "metadata": {},
   "outputs": [],
   "source": [
    "def fact(n):\n",
    "    n_fact = 1\n",
    "    for i in range(1,n+1,):\n",
    "        n_fact *= i\n",
    "    return(n_fact)    "
   ]
  },
  {
   "cell_type": "code",
   "execution_count": 10,
   "id": "4ab6a525",
   "metadata": {},
   "outputs": [
    {
     "name": "stdout",
     "output_type": "stream",
     "text": [
      "2\n",
      "3\n",
      "0\n"
     ]
    }
   ],
   "source": [
    "n = int( input() )\n",
    "r = int( input() )\n",
    "ans = fact(n)//(fact(r)*fact(n-r))\n",
    "print(ans)"
   ]
  },
  {
   "cell_type": "markdown",
   "id": "928ef425",
   "metadata": {},
   "source": [
    "#### check the no. is prime or not"
   ]
  },
  {
   "cell_type": "code",
   "execution_count": 19,
   "id": "0d62125b",
   "metadata": {},
   "outputs": [],
   "source": [
    "def prime(n):\n",
    "    d = 2\n",
    "    for i in range(n):\n",
    "        if(n%d == 0 and d<n):\n",
    "            return False\n",
    "            break\n",
    "        d = d+1    \n",
    "        \n",
    "    else:\n",
    "        return True"
   ]
  },
  {
   "cell_type": "code",
   "execution_count": 20,
   "id": "6f0f8590",
   "metadata": {},
   "outputs": [
    {
     "data": {
      "text/plain": [
       "False"
      ]
     },
     "execution_count": 20,
     "metadata": {},
     "output_type": "execute_result"
    }
   ],
   "source": [
    "prime(10)"
   ]
  },
  {
   "cell_type": "code",
   "execution_count": 23,
   "id": "93c04739",
   "metadata": {},
   "outputs": [],
   "source": [
    "def AllPrime2toN(k):\n",
    "    for k in range(2,k+1):\n",
    "        is_k_prime = prime(k)\n",
    "        if(is_k_prime):\n",
    "            print(k)"
   ]
  },
  {
   "cell_type": "code",
   "execution_count": 24,
   "id": "b2bac6a0",
   "metadata": {},
   "outputs": [
    {
     "name": "stdout",
     "output_type": "stream",
     "text": [
      "2\n",
      "3\n",
      "5\n",
      "7\n"
     ]
    }
   ],
   "source": [
    "AllPrime2toN(10)"
   ]
  },
  {
   "cell_type": "markdown",
   "id": "784c7334",
   "metadata": {},
   "source": [
    "#### Fahrenheit to Celsius\n",
    "##### Given three values - Start Fahrenheit Value (S), End Fahrenheit value (E) and Step Size (W), you need to convert all Fahrenheit values from Start to End at the gap of W, into their corresponding Celsius values and print the table."
   ]
  },
  {
   "cell_type": "code",
   "execution_count": 1,
   "id": "4390ab02",
   "metadata": {},
   "outputs": [],
   "source": [
    "def fahrenheit(s,e,w):\n",
    "    f = 0\n",
    "    for i in range(s,e+1,w):\n",
    "        f = (i-32)*5//9\n",
    "        print(f)"
   ]
  },
  {
   "cell_type": "code",
   "execution_count": 3,
   "id": "376bbaa3",
   "metadata": {},
   "outputs": [
    {
     "name": "stdout",
     "output_type": "stream",
     "text": [
      "120\n",
      "200\n",
      "40\n",
      "48.888888888888886\n",
      "71.11111111111111\n",
      "93.33333333333333\n"
     ]
    }
   ],
   "source": [
    "s= int(input())\n",
    "e = int(input())\n",
    "w = int(input())\n",
    "fahrenheit(s,e,w)"
   ]
  },
  {
   "cell_type": "markdown",
   "id": "bb6af920",
   "metadata": {},
   "source": [
    "### we do not make functions for string because string is immutable"
   ]
  },
  {
   "cell_type": "markdown",
   "id": "6ac5f969",
   "metadata": {},
   "source": [
    "#### Program to swap alternative element of list"
   ]
  },
  {
   "cell_type": "code",
   "execution_count": 4,
   "id": "76351ff0",
   "metadata": {},
   "outputs": [],
   "source": [
    "def swap_consecutive(l):\n",
    "    i = 0\n",
    "    while i+1 < len(l):\n",
    "        l[i],l[i+1] = l[i+1],l[i]\n",
    "        i= i+2"
   ]
  },
  {
   "cell_type": "code",
   "execution_count": 7,
   "id": "42eb9221",
   "metadata": {},
   "outputs": [
    {
     "data": {
      "text/plain": [
       "[2, 1, 4, 3, 5]"
      ]
     },
     "execution_count": 7,
     "metadata": {},
     "output_type": "execute_result"
    }
   ],
   "source": [
    "l = [1,2,3,4,5]\n",
    "swap_consecutive(l)\n",
    "l"
   ]
  },
  {
   "cell_type": "markdown",
   "id": "306b9c70",
   "metadata": {},
   "source": [
    "### Local variable : define inside functon and we do not call this funtion outside function\n",
    "### Global  variable : define outside the function "
   ]
  },
  {
   "cell_type": "code",
   "execution_count": 9,
   "id": "e9f485ef",
   "metadata": {},
   "outputs": [
    {
     "name": "stdout",
     "output_type": "stream",
     "text": [
      "1\n"
     ]
    },
    {
     "ename": "NameError",
     "evalue": "name 'b' is not defined",
     "output_type": "error",
     "traceback": [
      "\u001b[1;31m---------------------------------------------------------------------------\u001b[0m",
      "\u001b[1;31mNameError\u001b[0m                                 Traceback (most recent call last)",
      "\u001b[1;32m~\\AppData\\Local\\Temp\\ipykernel_9508\\579898938.py\u001b[0m in \u001b[0;36m<module>\u001b[1;34m\u001b[0m\n\u001b[0;32m      4\u001b[0m \u001b[1;33m\u001b[0m\u001b[0m\n\u001b[0;32m      5\u001b[0m \u001b[0mprint\u001b[0m\u001b[1;33m(\u001b[0m\u001b[0ma\u001b[0m\u001b[1;33m)\u001b[0m\u001b[1;33m\u001b[0m\u001b[1;33m\u001b[0m\u001b[0m\n\u001b[1;32m----> 6\u001b[1;33m \u001b[0mprint\u001b[0m\u001b[1;33m(\u001b[0m\u001b[0mb\u001b[0m\u001b[1;33m)\u001b[0m\u001b[1;33m\u001b[0m\u001b[1;33m\u001b[0m\u001b[0m\n\u001b[0m",
      "\u001b[1;31mNameError\u001b[0m: name 'b' is not defined"
     ]
    }
   ],
   "source": [
    "a = 1\n",
    "def f():\n",
    "    b = 5\n",
    "    \n",
    "print(a)    \n",
    "print(b)"
   ]
  },
  {
   "cell_type": "markdown",
   "id": "0e3616fa",
   "metadata": {},
   "source": [
    "### default argument"
   ]
  },
  {
   "cell_type": "code",
   "execution_count": 10,
   "id": "07727d31",
   "metadata": {},
   "outputs": [
    {
     "ename": "TypeError",
     "evalue": "f() missing 1 required positional argument: 'b'",
     "output_type": "error",
     "traceback": [
      "\u001b[1;31m---------------------------------------------------------------------------\u001b[0m",
      "\u001b[1;31mTypeError\u001b[0m                                 Traceback (most recent call last)",
      "\u001b[1;32m~\\AppData\\Local\\Temp\\ipykernel_9508\\2530354816.py\u001b[0m in \u001b[0;36m<module>\u001b[1;34m\u001b[0m\n\u001b[0;32m      1\u001b[0m \u001b[1;32mdef\u001b[0m \u001b[0mf\u001b[0m\u001b[1;33m(\u001b[0m\u001b[0ma\u001b[0m\u001b[1;33m,\u001b[0m\u001b[0mb\u001b[0m\u001b[1;33m)\u001b[0m\u001b[1;33m:\u001b[0m\u001b[1;33m\u001b[0m\u001b[1;33m\u001b[0m\u001b[0m\n\u001b[0;32m      2\u001b[0m     \u001b[1;32mreturn\u001b[0m \u001b[0ma\u001b[0m\u001b[1;33m+\u001b[0m\u001b[0mb\u001b[0m\u001b[1;33m\u001b[0m\u001b[1;33m\u001b[0m\u001b[0m\n\u001b[1;32m----> 3\u001b[1;33m \u001b[0mf\u001b[0m\u001b[1;33m(\u001b[0m\u001b[1;36m1\u001b[0m\u001b[1;33m)\u001b[0m\u001b[1;33m\u001b[0m\u001b[1;33m\u001b[0m\u001b[0m\n\u001b[0m",
      "\u001b[1;31mTypeError\u001b[0m: f() missing 1 required positional argument: 'b'"
     ]
    }
   ],
   "source": [
    "def f(a,b):\n",
    "    return a+b\n",
    "f(1)"
   ]
  },
  {
   "cell_type": "code",
   "execution_count": 11,
   "id": "ef57aa86",
   "metadata": {},
   "outputs": [
    {
     "name": "stdout",
     "output_type": "stream",
     "text": [
      "1\n"
     ]
    },
    {
     "data": {
      "text/plain": [
       "3"
      ]
     },
     "execution_count": 11,
     "metadata": {},
     "output_type": "execute_result"
    }
   ],
   "source": [
    "def f(a,b=1):\n",
    "    print(b)\n",
    "    return a+b\n",
    "f(2)"
   ]
  },
  {
   "cell_type": "code",
   "execution_count": 12,
   "id": "36d612e7",
   "metadata": {},
   "outputs": [
    {
     "name": "stdout",
     "output_type": "stream",
     "text": [
      "3\n"
     ]
    },
    {
     "data": {
      "text/plain": [
       "5"
      ]
     },
     "execution_count": 12,
     "metadata": {},
     "output_type": "execute_result"
    }
   ],
   "source": [
    "f(2,3)"
   ]
  },
  {
   "cell_type": "code",
   "execution_count": 13,
   "id": "14cca337",
   "metadata": {},
   "outputs": [
    {
     "ename": "SyntaxError",
     "evalue": "non-default argument follows default argument (3855633870.py, line 1)",
     "output_type": "error",
     "traceback": [
      "\u001b[1;36m  File \u001b[1;32m\"C:\\Users\\dell\\AppData\\Local\\Temp\\ipykernel_9508\\3855633870.py\"\u001b[1;36m, line \u001b[1;32m1\u001b[0m\n\u001b[1;33m    def f(b=1,a):\u001b[0m\n\u001b[1;37m               ^\u001b[0m\n\u001b[1;31mSyntaxError\u001b[0m\u001b[1;31m:\u001b[0m non-default argument follows default argument\n"
     ]
    }
   ],
   "source": [
    "def f(b=1,a):\n",
    "    print(b)\n",
    "    return a+b\n",
    "f(2,3)"
   ]
  },
  {
   "cell_type": "markdown",
   "id": "00b81cef",
   "metadata": {},
   "source": [
    "#### always put non_default  argument before default argument\n"
   ]
  }
 ],
 "metadata": {
  "kernelspec": {
   "display_name": "Python 3 (ipykernel)",
   "language": "python",
   "name": "python3"
  },
  "language_info": {
   "codemirror_mode": {
    "name": "ipython",
    "version": 3
   },
   "file_extension": ".py",
   "mimetype": "text/x-python",
   "name": "python",
   "nbconvert_exporter": "python",
   "pygments_lexer": "ipython3",
   "version": "3.9.13"
  }
 },
 "nbformat": 4,
 "nbformat_minor": 5
}
